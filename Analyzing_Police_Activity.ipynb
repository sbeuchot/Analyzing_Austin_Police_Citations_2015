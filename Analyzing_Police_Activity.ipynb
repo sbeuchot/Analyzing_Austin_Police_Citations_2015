{
 "cells": [
  {
   "cell_type": "markdown",
   "metadata": {},
   "source": [
    "# Analyzing Police Traffic Stops Citations in Austin Texas\n",
    "\n",
    "Sections:\n",
    "- Reading and Cleaning\n",
    "- Analyzing stop citations by race and gender\n",
    "\n",
    "\n",
    "Data description: Data set used is Racial Profiling Dataset 2015- Citations from Austin's Open Data Portal (https://data.austintexas.gov/Public-Safety/Racial-Profiling-Dataset-2015-Citations/sc6h-qr9f). \n",
    "Dataset contains the records of traffic stops citations with variables such as:\n",
    "    - driver gender (Male, Female)\n",
    "    - driver race (White, Asian, Black, Hispanic, Middle East, Other)\n",
    "    - reason for stop\n",
    "    - was there a search\n",
    "    - search type\n",
    "    - what was found during the search\n",
    "    - among others\n",
    "\n"
   ]
  },
  {
   "cell_type": "markdown",
   "metadata": {},
   "source": [
    "## Reading and Cleaning\n",
    "\n",
    "Start by reading the dataset into a `pandas` DataFrame"
   ]
  },
  {
   "cell_type": "code",
   "execution_count": 1,
   "metadata": {},
   "outputs": [
    {
     "name": "stdout",
     "output_type": "stream",
     "text": [
      "dataframe shape:  (110847, 11)\n"
     ]
    },
    {
     "data": {
      "text/html": [
       "<div>\n",
       "<style scoped>\n",
       "    .dataframe tbody tr th:only-of-type {\n",
       "        vertical-align: middle;\n",
       "    }\n",
       "\n",
       "    .dataframe tbody tr th {\n",
       "        vertical-align: top;\n",
       "    }\n",
       "\n",
       "    .dataframe thead th {\n",
       "        text-align: right;\n",
       "    }\n",
       "</style>\n",
       "<table border=\"1\" class=\"dataframe\">\n",
       "  <thead>\n",
       "    <tr style=\"text-align: right;\">\n",
       "      <th></th>\n",
       "      <th>CITATION NUMBER</th>\n",
       "      <th>OFF FROM DATE</th>\n",
       "      <th>OFF TIME</th>\n",
       "      <th>RACE-ORIGIN CODE</th>\n",
       "      <th>CASE PARTY SEX</th>\n",
       "      <th>REASON FOR STOP</th>\n",
       "      <th>RACE KNOWN</th>\n",
       "      <th>VL STREET NAME</th>\n",
       "      <th>MSEARCH Y/N</th>\n",
       "      <th>MSEARCH TYPE</th>\n",
       "      <th>MSEARCH FOUND</th>\n",
       "    </tr>\n",
       "  </thead>\n",
       "  <tbody>\n",
       "    <tr>\n",
       "      <th>0</th>\n",
       "      <td>1111.0</td>\n",
       "      <td>05/25/2015 12:00:00 AM</td>\n",
       "      <td>8:00:00</td>\n",
       "      <td>W</td>\n",
       "      <td>M</td>\n",
       "      <td>1.0</td>\n",
       "      <td>N</td>\n",
       "      <td>10000 BLOCK WEST BEN WHITE BOULEVARD</td>\n",
       "      <td>N</td>\n",
       "      <td>NaN</td>\n",
       "      <td>NaN</td>\n",
       "    </tr>\n",
       "    <tr>\n",
       "      <th>1</th>\n",
       "      <td>320540.0</td>\n",
       "      <td>12/07/2015 12:00:00 AM</td>\n",
       "      <td>23:46:00</td>\n",
       "      <td>H</td>\n",
       "      <td>F</td>\n",
       "      <td>1.0</td>\n",
       "      <td>N</td>\n",
       "      <td>SOUTH PLEASANT VALLEY ROAD</td>\n",
       "      <td>N</td>\n",
       "      <td>NaN</td>\n",
       "      <td>NaN</td>\n",
       "    </tr>\n",
       "    <tr>\n",
       "      <th>2</th>\n",
       "      <td>1394195.0</td>\n",
       "      <td>09/01/2015 12:00:00 AM</td>\n",
       "      <td>21:05:00</td>\n",
       "      <td>W</td>\n",
       "      <td>M</td>\n",
       "      <td>1.0</td>\n",
       "      <td>N</td>\n",
       "      <td>1300 BLOCK SOUTH 1ST STREET</td>\n",
       "      <td>N</td>\n",
       "      <td>NaN</td>\n",
       "      <td>NaN</td>\n",
       "    </tr>\n",
       "    <tr>\n",
       "      <th>3</th>\n",
       "      <td>1395858.0</td>\n",
       "      <td>02/04/2015 12:00:00 AM</td>\n",
       "      <td>20:51:00</td>\n",
       "      <td>W</td>\n",
       "      <td>F</td>\n",
       "      <td>1.0</td>\n",
       "      <td>N</td>\n",
       "      <td>EAST 7TH STREET</td>\n",
       "      <td>N</td>\n",
       "      <td>NaN</td>\n",
       "      <td>NaN</td>\n",
       "    </tr>\n",
       "    <tr>\n",
       "      <th>4</th>\n",
       "      <td>1409057.0</td>\n",
       "      <td>12/14/2015 12:00:00 AM</td>\n",
       "      <td>15:57:00</td>\n",
       "      <td>W</td>\n",
       "      <td>M</td>\n",
       "      <td>1.0</td>\n",
       "      <td>N</td>\n",
       "      <td>7200 BLOCK FM 2222 ROAD</td>\n",
       "      <td>N</td>\n",
       "      <td>NaN</td>\n",
       "      <td>NaN</td>\n",
       "    </tr>\n",
       "  </tbody>\n",
       "</table>\n",
       "</div>"
      ],
      "text/plain": [
       "   CITATION NUMBER           OFF FROM DATE  OFF TIME RACE-ORIGIN CODE  \\\n",
       "0           1111.0  05/25/2015 12:00:00 AM   8:00:00                W   \n",
       "1         320540.0  12/07/2015 12:00:00 AM  23:46:00                H   \n",
       "2        1394195.0  09/01/2015 12:00:00 AM  21:05:00                W   \n",
       "3        1395858.0  02/04/2015 12:00:00 AM  20:51:00                W   \n",
       "4        1409057.0  12/14/2015 12:00:00 AM  15:57:00                W   \n",
       "\n",
       "  CASE PARTY SEX  REASON FOR STOP RACE KNOWN  \\\n",
       "0              M              1.0          N   \n",
       "1              F              1.0          N   \n",
       "2              M              1.0          N   \n",
       "3              F              1.0          N   \n",
       "4              M              1.0          N   \n",
       "\n",
       "                         VL STREET NAME MSEARCH Y/N  MSEARCH TYPE  \\\n",
       "0  10000 BLOCK WEST BEN WHITE BOULEVARD           N           NaN   \n",
       "1            SOUTH PLEASANT VALLEY ROAD           N           NaN   \n",
       "2           1300 BLOCK SOUTH 1ST STREET           N           NaN   \n",
       "3                       EAST 7TH STREET           N           NaN   \n",
       "4               7200 BLOCK FM 2222 ROAD           N           NaN   \n",
       "\n",
       "   MSEARCH FOUND  \n",
       "0            NaN  \n",
       "1            NaN  \n",
       "2            NaN  \n",
       "3            NaN  \n",
       "4            NaN  "
      ]
     },
     "execution_count": 1,
     "metadata": {},
     "output_type": "execute_result"
    }
   ],
   "source": [
    "import pandas as pd\n",
    "import numpy as np\n",
    "\n",
    "# Read 'police.csv' into a DataFrame named austin\n",
    "austin = pd.read_csv('Racial_Profiling_Dataset_2015-_Citations(Austin_TX).csv')\n",
    "\n",
    "print('dataframe shape: ',austin.shape)\n",
    "austin.head()"
   ]
  },
  {
   "cell_type": "markdown",
   "metadata": {},
   "source": [
    "Change the names of the columns to `snake_case` format. Replace integer values with corresponding classes. The classes were taken from Austin's Open Data Portal information about the data set. Also, replace `Y`/`N` with `True`/`False`"
   ]
  },
  {
   "cell_type": "code",
   "execution_count": 2,
   "metadata": {
    "scrolled": true
   },
   "outputs": [
    {
     "data": {
      "text/html": [
       "<div>\n",
       "<style scoped>\n",
       "    .dataframe tbody tr th:only-of-type {\n",
       "        vertical-align: middle;\n",
       "    }\n",
       "\n",
       "    .dataframe tbody tr th {\n",
       "        vertical-align: top;\n",
       "    }\n",
       "\n",
       "    .dataframe thead th {\n",
       "        text-align: right;\n",
       "    }\n",
       "</style>\n",
       "<table border=\"1\" class=\"dataframe\">\n",
       "  <thead>\n",
       "    <tr style=\"text-align: right;\">\n",
       "      <th></th>\n",
       "      <th>citation_number</th>\n",
       "      <th>off_from_date</th>\n",
       "      <th>off_time</th>\n",
       "      <th>race_origin_code</th>\n",
       "      <th>case_party_sex</th>\n",
       "      <th>reason_for_stop</th>\n",
       "      <th>race_known</th>\n",
       "      <th>vl_street_name</th>\n",
       "      <th>msearch_y/n</th>\n",
       "      <th>msearch_type</th>\n",
       "      <th>msearch_found</th>\n",
       "    </tr>\n",
       "  </thead>\n",
       "  <tbody>\n",
       "    <tr>\n",
       "      <th>0</th>\n",
       "      <td>1111.0</td>\n",
       "      <td>05/25/2015 12:00:00 AM</td>\n",
       "      <td>8:00:00</td>\n",
       "      <td>W</td>\n",
       "      <td>M</td>\n",
       "      <td>Violation of transportation code/vehicle laws</td>\n",
       "      <td>False</td>\n",
       "      <td>10000 BLOCK WEST BEN WHITE BOULEVARD</td>\n",
       "      <td>False</td>\n",
       "      <td>NaN</td>\n",
       "      <td>NaN</td>\n",
       "    </tr>\n",
       "    <tr>\n",
       "      <th>1</th>\n",
       "      <td>320540.0</td>\n",
       "      <td>12/07/2015 12:00:00 AM</td>\n",
       "      <td>23:46:00</td>\n",
       "      <td>H</td>\n",
       "      <td>F</td>\n",
       "      <td>Violation of transportation code/vehicle laws</td>\n",
       "      <td>False</td>\n",
       "      <td>SOUTH PLEASANT VALLEY ROAD</td>\n",
       "      <td>False</td>\n",
       "      <td>NaN</td>\n",
       "      <td>NaN</td>\n",
       "    </tr>\n",
       "    <tr>\n",
       "      <th>2</th>\n",
       "      <td>1394195.0</td>\n",
       "      <td>09/01/2015 12:00:00 AM</td>\n",
       "      <td>21:05:00</td>\n",
       "      <td>W</td>\n",
       "      <td>M</td>\n",
       "      <td>Violation of transportation code/vehicle laws</td>\n",
       "      <td>False</td>\n",
       "      <td>1300 BLOCK SOUTH 1ST STREET</td>\n",
       "      <td>False</td>\n",
       "      <td>NaN</td>\n",
       "      <td>NaN</td>\n",
       "    </tr>\n",
       "    <tr>\n",
       "      <th>3</th>\n",
       "      <td>1395858.0</td>\n",
       "      <td>02/04/2015 12:00:00 AM</td>\n",
       "      <td>20:51:00</td>\n",
       "      <td>W</td>\n",
       "      <td>F</td>\n",
       "      <td>Violation of transportation code/vehicle laws</td>\n",
       "      <td>False</td>\n",
       "      <td>EAST 7TH STREET</td>\n",
       "      <td>False</td>\n",
       "      <td>NaN</td>\n",
       "      <td>NaN</td>\n",
       "    </tr>\n",
       "    <tr>\n",
       "      <th>4</th>\n",
       "      <td>1409057.0</td>\n",
       "      <td>12/14/2015 12:00:00 AM</td>\n",
       "      <td>15:57:00</td>\n",
       "      <td>W</td>\n",
       "      <td>M</td>\n",
       "      <td>Violation of transportation code/vehicle laws</td>\n",
       "      <td>False</td>\n",
       "      <td>7200 BLOCK FM 2222 ROAD</td>\n",
       "      <td>False</td>\n",
       "      <td>NaN</td>\n",
       "      <td>NaN</td>\n",
       "    </tr>\n",
       "  </tbody>\n",
       "</table>\n",
       "</div>"
      ],
      "text/plain": [
       "   citation_number           off_from_date  off_time race_origin_code  \\\n",
       "0           1111.0  05/25/2015 12:00:00 AM   8:00:00                W   \n",
       "1         320540.0  12/07/2015 12:00:00 AM  23:46:00                H   \n",
       "2        1394195.0  09/01/2015 12:00:00 AM  21:05:00                W   \n",
       "3        1395858.0  02/04/2015 12:00:00 AM  20:51:00                W   \n",
       "4        1409057.0  12/14/2015 12:00:00 AM  15:57:00                W   \n",
       "\n",
       "  case_party_sex                                reason_for_stop  race_known  \\\n",
       "0              M  Violation of transportation code/vehicle laws       False   \n",
       "1              F  Violation of transportation code/vehicle laws       False   \n",
       "2              M  Violation of transportation code/vehicle laws       False   \n",
       "3              F  Violation of transportation code/vehicle laws       False   \n",
       "4              M  Violation of transportation code/vehicle laws       False   \n",
       "\n",
       "                         vl_street_name  msearch_y/n msearch_type  \\\n",
       "0  10000 BLOCK WEST BEN WHITE BOULEVARD        False          NaN   \n",
       "1            SOUTH PLEASANT VALLEY ROAD        False          NaN   \n",
       "2           1300 BLOCK SOUTH 1ST STREET        False          NaN   \n",
       "3                       EAST 7TH STREET        False          NaN   \n",
       "4               7200 BLOCK FM 2222 ROAD        False          NaN   \n",
       "\n",
       "  msearch_found  \n",
       "0           NaN  \n",
       "1           NaN  \n",
       "2           NaN  \n",
       "3           NaN  \n",
       "4           NaN  "
      ]
     },
     "execution_count": 2,
     "metadata": {},
     "output_type": "execute_result"
    }
   ],
   "source": [
    "# format the names of the columns to 'snake_case'\n",
    "austin.columns = austin.columns.str.lower()\\\n",
    "                .str.replace(' ','_')\\\n",
    "                .str.replace('-','_')\n",
    "\n",
    "# change coded values to proper classes\n",
    "# dictionary with right classes/values for columns\n",
    "new_vals = {'reason_for_stop':{1:'Violation of transportation code/vehicle laws',\n",
    "                               2:'Violation of penal code',\n",
    "                               3:'Consent of interview',\n",
    "                               4:'Suspicious person',\n",
    "                               5:'Call for service',\n",
    "                               6:'Pre-existing knowledge',\n",
    "                               7:'Specific detail',\n",
    "                               8:'Other',\n",
    "                               9:'Violation of city ordinance',\n",
    "                               10:'Outstanding warran'},\n",
    "            'msearch_type':{1:'frisk for safety',\n",
    "                            2:'consent',\n",
    "                            3:'probable cause',\n",
    "                            4:'contraband/evidence in plain view',\n",
    "                            5:'towing of motor vehicle',\n",
    "                            6:'arrest of person in vehicle'},\n",
    "            'msearch_found':{1:'weapons',\n",
    "                             2:'cash',\n",
    "                             3:'alcohol',\n",
    "                             4:'other',\n",
    "                             5:'nothing',\n",
    "                             6:'drugs'},\n",
    "            'race_known':{'Y':True,\n",
    "                          'N':False},\n",
    "            'msearch_y/n':{'Y':True,\n",
    "                           'N':False},\n",
    "            'race_origin_code':{'N':'O'}\n",
    "           }\n",
    "\n",
    "# change classes 'austin' dataframe\n",
    "austin.replace(new_vals,inplace=True)\n",
    "\n",
    "austin.head()"
   ]
  },
  {
   "cell_type": "markdown",
   "metadata": {},
   "source": [
    "This analysis would focus on the activity by race and gender, so only records with information about driver race and gender are going to be considered. records with null values for column `'race_origin_code'` and `'case_party_sex'` are dropped from the dataset."
   ]
  },
  {
   "cell_type": "code",
   "execution_count": 3,
   "metadata": {},
   "outputs": [
    {
     "name": "stdout",
     "output_type": "stream",
     "text": [
      "dataframe shape:  (109760, 11)\n"
     ]
    }
   ],
   "source": [
    "# Drop all rows that are missing 'driver_gender'\n",
    "austin.dropna(subset=['race_origin_code','case_party_sex'],\n",
    "              inplace=True)\n",
    "\n",
    "print('dataframe shape: ',austin.shape)"
   ]
  },
  {
   "cell_type": "markdown",
   "metadata": {},
   "source": [
    "Check current data types and change to more adequate ones. "
   ]
  },
  {
   "cell_type": "code",
   "execution_count": 4,
   "metadata": {
    "scrolled": true
   },
   "outputs": [
    {
     "name": "stdout",
     "output_type": "stream",
     "text": [
      "<class 'pandas.core.frame.DataFrame'>\n",
      "Int64Index: 109760 entries, 0 to 110846\n",
      "Data columns (total 11 columns):\n",
      "citation_number     109102 non-null float64\n",
      "off_from_date       109760 non-null object\n",
      "off_time            109760 non-null object\n",
      "race_origin_code    109760 non-null object\n",
      "case_party_sex      109760 non-null object\n",
      "reason_for_stop     108351 non-null object\n",
      "race_known          109760 non-null bool\n",
      "vl_street_name      109710 non-null object\n",
      "msearch_y/n         109760 non-null bool\n",
      "msearch_type        2179 non-null object\n",
      "msearch_found       2179 non-null object\n",
      "dtypes: bool(2), float64(1), object(8)\n",
      "memory usage: 8.6+ MB\n"
     ]
    }
   ],
   "source": [
    "# Checking data types\n",
    "austin.info()"
   ]
  },
  {
   "cell_type": "markdown",
   "metadata": {},
   "source": [
    "Data types changes: concatenate columns`'off_from_date'` and `'off_time'` into `'off_datetime'`, set type to `date` and set as index. For `'case_party_sex'`, `'race_origin_code'`, `'reason_for_stop'`, `'msearch_type'`, and `'msearch_found'` change to `categorical`."
   ]
  },
  {
   "cell_type": "code",
   "execution_count": 5,
   "metadata": {},
   "outputs": [
    {
     "name": "stdout",
     "output_type": "stream",
     "text": [
      "<class 'pandas.core.frame.DataFrame'>\n",
      "DatetimeIndex: 109760 entries, 2015-05-25 08:00:00 to 2015-12-14 06:11:00\n",
      "Data columns (total 9 columns):\n",
      "citation_number     109102 non-null float64\n",
      "race_origin_code    109760 non-null category\n",
      "case_party_sex      109760 non-null category\n",
      "reason_for_stop     108351 non-null category\n",
      "race_known          109760 non-null bool\n",
      "vl_street_name      109710 non-null object\n",
      "msearch_y/n         109760 non-null bool\n",
      "msearch_type        2179 non-null category\n",
      "msearch_found       2179 non-null category\n",
      "dtypes: bool(2), category(5), float64(1), object(1)\n",
      "memory usage: 3.2+ MB\n"
     ]
    }
   ],
   "source": [
    "# concatenate date and time columns\n",
    "austin['off_datetime'] = austin['off_from_date'].str[:10]\\\n",
    "                        .str.cat(austin.off_time,sep=' ')\n",
    "\n",
    "# change 'off_datetime' to date\n",
    "austin['off_datetime'] = pd.to_datetime(austin.off_datetime)\n",
    "\n",
    "# drop 'off_from_date' and 'off_time' columns\n",
    "austin.drop(['off_time','off_from_date'],\n",
    "            axis=1,\n",
    "            inplace=True)\n",
    "\n",
    "# set 'stop_datetime' as the index\n",
    "austin.set_index('off_datetime',inplace=True)\n",
    "\n",
    "# change to categorical variables\n",
    "categoricals = ['race_origin_code',\n",
    "                'case_party_sex',\n",
    "                'reason_for_stop',\n",
    "                'msearch_type',\n",
    "                'msearch_found']\n",
    "\n",
    "for col in categoricals:\n",
    "    austin[col] = austin[col].astype('category')\n",
    "\n",
    "    \n",
    "austin.info()"
   ]
  },
  {
   "cell_type": "markdown",
   "metadata": {},
   "source": [
    "Save clean data set to a new csv file named `clean_austin_police.csv`."
   ]
  },
  {
   "cell_type": "code",
   "execution_count": 6,
   "metadata": {},
   "outputs": [
    {
     "data": {
      "text/html": [
       "<div>\n",
       "<style scoped>\n",
       "    .dataframe tbody tr th:only-of-type {\n",
       "        vertical-align: middle;\n",
       "    }\n",
       "\n",
       "    .dataframe tbody tr th {\n",
       "        vertical-align: top;\n",
       "    }\n",
       "\n",
       "    .dataframe thead th {\n",
       "        text-align: right;\n",
       "    }\n",
       "</style>\n",
       "<table border=\"1\" class=\"dataframe\">\n",
       "  <thead>\n",
       "    <tr style=\"text-align: right;\">\n",
       "      <th></th>\n",
       "      <th>citation_number</th>\n",
       "      <th>race_origin_code</th>\n",
       "      <th>case_party_sex</th>\n",
       "      <th>reason_for_stop</th>\n",
       "      <th>race_known</th>\n",
       "      <th>vl_street_name</th>\n",
       "      <th>msearch_y/n</th>\n",
       "      <th>msearch_type</th>\n",
       "      <th>msearch_found</th>\n",
       "    </tr>\n",
       "    <tr>\n",
       "      <th>off_datetime</th>\n",
       "      <th></th>\n",
       "      <th></th>\n",
       "      <th></th>\n",
       "      <th></th>\n",
       "      <th></th>\n",
       "      <th></th>\n",
       "      <th></th>\n",
       "      <th></th>\n",
       "      <th></th>\n",
       "    </tr>\n",
       "  </thead>\n",
       "  <tbody>\n",
       "    <tr>\n",
       "      <th>2015-05-25 08:00:00</th>\n",
       "      <td>1111.0</td>\n",
       "      <td>W</td>\n",
       "      <td>M</td>\n",
       "      <td>Violation of transportation code/vehicle laws</td>\n",
       "      <td>False</td>\n",
       "      <td>10000 BLOCK WEST BEN WHITE BOULEVARD</td>\n",
       "      <td>False</td>\n",
       "      <td>NaN</td>\n",
       "      <td>NaN</td>\n",
       "    </tr>\n",
       "    <tr>\n",
       "      <th>2015-12-07 23:46:00</th>\n",
       "      <td>320540.0</td>\n",
       "      <td>H</td>\n",
       "      <td>F</td>\n",
       "      <td>Violation of transportation code/vehicle laws</td>\n",
       "      <td>False</td>\n",
       "      <td>SOUTH PLEASANT VALLEY ROAD</td>\n",
       "      <td>False</td>\n",
       "      <td>NaN</td>\n",
       "      <td>NaN</td>\n",
       "    </tr>\n",
       "    <tr>\n",
       "      <th>2015-09-01 21:05:00</th>\n",
       "      <td>1394195.0</td>\n",
       "      <td>W</td>\n",
       "      <td>M</td>\n",
       "      <td>Violation of transportation code/vehicle laws</td>\n",
       "      <td>False</td>\n",
       "      <td>1300 BLOCK SOUTH 1ST STREET</td>\n",
       "      <td>False</td>\n",
       "      <td>NaN</td>\n",
       "      <td>NaN</td>\n",
       "    </tr>\n",
       "    <tr>\n",
       "      <th>2015-02-04 20:51:00</th>\n",
       "      <td>1395858.0</td>\n",
       "      <td>W</td>\n",
       "      <td>F</td>\n",
       "      <td>Violation of transportation code/vehicle laws</td>\n",
       "      <td>False</td>\n",
       "      <td>EAST 7TH STREET</td>\n",
       "      <td>False</td>\n",
       "      <td>NaN</td>\n",
       "      <td>NaN</td>\n",
       "    </tr>\n",
       "    <tr>\n",
       "      <th>2015-12-14 15:57:00</th>\n",
       "      <td>1409057.0</td>\n",
       "      <td>W</td>\n",
       "      <td>M</td>\n",
       "      <td>Violation of transportation code/vehicle laws</td>\n",
       "      <td>False</td>\n",
       "      <td>7200 BLOCK FM 2222 ROAD</td>\n",
       "      <td>False</td>\n",
       "      <td>NaN</td>\n",
       "      <td>NaN</td>\n",
       "    </tr>\n",
       "  </tbody>\n",
       "</table>\n",
       "</div>"
      ],
      "text/plain": [
       "                     citation_number race_origin_code case_party_sex  \\\n",
       "off_datetime                                                           \n",
       "2015-05-25 08:00:00           1111.0                W              M   \n",
       "2015-12-07 23:46:00         320540.0                H              F   \n",
       "2015-09-01 21:05:00        1394195.0                W              M   \n",
       "2015-02-04 20:51:00        1395858.0                W              F   \n",
       "2015-12-14 15:57:00        1409057.0                W              M   \n",
       "\n",
       "                                                   reason_for_stop  \\\n",
       "off_datetime                                                         \n",
       "2015-05-25 08:00:00  Violation of transportation code/vehicle laws   \n",
       "2015-12-07 23:46:00  Violation of transportation code/vehicle laws   \n",
       "2015-09-01 21:05:00  Violation of transportation code/vehicle laws   \n",
       "2015-02-04 20:51:00  Violation of transportation code/vehicle laws   \n",
       "2015-12-14 15:57:00  Violation of transportation code/vehicle laws   \n",
       "\n",
       "                     race_known                        vl_street_name  \\\n",
       "off_datetime                                                            \n",
       "2015-05-25 08:00:00       False  10000 BLOCK WEST BEN WHITE BOULEVARD   \n",
       "2015-12-07 23:46:00       False            SOUTH PLEASANT VALLEY ROAD   \n",
       "2015-09-01 21:05:00       False           1300 BLOCK SOUTH 1ST STREET   \n",
       "2015-02-04 20:51:00       False                       EAST 7TH STREET   \n",
       "2015-12-14 15:57:00       False               7200 BLOCK FM 2222 ROAD   \n",
       "\n",
       "                     msearch_y/n msearch_type msearch_found  \n",
       "off_datetime                                                 \n",
       "2015-05-25 08:00:00        False          NaN           NaN  \n",
       "2015-12-07 23:46:00        False          NaN           NaN  \n",
       "2015-09-01 21:05:00        False          NaN           NaN  \n",
       "2015-02-04 20:51:00        False          NaN           NaN  \n",
       "2015-12-14 15:57:00        False          NaN           NaN  "
      ]
     },
     "execution_count": 6,
     "metadata": {},
     "output_type": "execute_result"
    }
   ],
   "source": [
    "# Save DataFrame to csv files\n",
    "austin.to_csv('clean_austin_police.csv')\n",
    "\n",
    "# show first five rows\n",
    "austin.head()"
   ]
  },
  {
   "cell_type": "markdown",
   "metadata": {},
   "source": [
    "## Analyzing citations by race and gender\n",
    "\n",
    "Next code cell creates two dataframes, first one with the proportion of each reason for stop by race, eg. the proportion of 'violation of transportation code/vehicle laws' when the driver race was 'Asian' is 0.8931. Second with the proportion of each reason for stop by gender.\n",
    "\n",
    "The first dataframe starts by grouping the `austin` dataframe by `'race_origin_code'` then selects the Series `'reason_for_stop'` and calculates the proportion of each reason by race using the `.value_counts` method (without `normalize=True` it returns the actual values, not proportions). Then it converts the series to a dataframe and reset the index to pass `'race_origin_code'` and `'reason_for_stop'` to columns instead of indices. The second dataframe uses the same methods only substituting `'race_origin_code'` with `'case_party_sex'`"
   ]
  },
  {
   "cell_type": "code",
   "execution_count": 7,
   "metadata": {},
   "outputs": [
    {
     "data": {
      "text/html": [
       "<div>\n",
       "<style scoped>\n",
       "    .dataframe tbody tr th:only-of-type {\n",
       "        vertical-align: middle;\n",
       "    }\n",
       "\n",
       "    .dataframe tbody tr th {\n",
       "        vertical-align: top;\n",
       "    }\n",
       "\n",
       "    .dataframe thead th {\n",
       "        text-align: right;\n",
       "    }\n",
       "</style>\n",
       "<table border=\"1\" class=\"dataframe\">\n",
       "  <thead>\n",
       "    <tr style=\"text-align: right;\">\n",
       "      <th></th>\n",
       "      <th>race_origin_code</th>\n",
       "      <th>reason_for_stop</th>\n",
       "      <th>proportion_by_race</th>\n",
       "    </tr>\n",
       "  </thead>\n",
       "  <tbody>\n",
       "    <tr>\n",
       "      <th>0</th>\n",
       "      <td>A</td>\n",
       "      <td>Violation of transportation code/vehicle laws</td>\n",
       "      <td>0.893101</td>\n",
       "    </tr>\n",
       "    <tr>\n",
       "      <th>1</th>\n",
       "      <td>A</td>\n",
       "      <td>Call for service</td>\n",
       "      <td>0.087799</td>\n",
       "    </tr>\n",
       "    <tr>\n",
       "      <th>2</th>\n",
       "      <td>A</td>\n",
       "      <td>Violation of city ordinance</td>\n",
       "      <td>0.007412</td>\n",
       "    </tr>\n",
       "    <tr>\n",
       "      <th>3</th>\n",
       "      <td>A</td>\n",
       "      <td>Violation of penal code</td>\n",
       "      <td>0.006271</td>\n",
       "    </tr>\n",
       "    <tr>\n",
       "      <th>4</th>\n",
       "      <td>A</td>\n",
       "      <td>Other</td>\n",
       "      <td>0.004276</td>\n",
       "    </tr>\n",
       "  </tbody>\n",
       "</table>\n",
       "</div>"
      ],
      "text/plain": [
       "  race_origin_code                                reason_for_stop  \\\n",
       "0                A  Violation of transportation code/vehicle laws   \n",
       "1                A                               Call for service   \n",
       "2                A                    Violation of city ordinance   \n",
       "3                A                        Violation of penal code   \n",
       "4                A                                          Other   \n",
       "\n",
       "   proportion_by_race  \n",
       "0            0.893101  \n",
       "1            0.087799  \n",
       "2            0.007412  \n",
       "3            0.006271  \n",
       "4            0.004276  "
      ]
     },
     "execution_count": 7,
     "metadata": {},
     "output_type": "execute_result"
    }
   ],
   "source": [
    "# create dataframe with proportions of reasons for stop\n",
    "reasons_proportions_race = austin.groupby('race_origin_code')\\\n",
    "                            .reason_for_stop\\\n",
    "                            .value_counts(normalize=True)\\\n",
    "                            .to_frame(name='proportion_by_race')\\\n",
    "                            .reset_index()\n",
    "\n",
    "# create dataframe with proportions of reasons for stop\n",
    "reasons_proportions_gender = austin.groupby('case_party_sex')\\\n",
    "                            .reason_for_stop\\\n",
    "                            .value_counts(normalize=True)\\\n",
    "                            .to_frame(name='proportion_by_gender')\\\n",
    "                            .reset_index()\n",
    "\n",
    "# show first five rows of proportions by race\n",
    "reasons_proportions_race.head()"
   ]
  },
  {
   "cell_type": "markdown",
   "metadata": {},
   "source": [
    "Create bar charts to visually see the proportions of reasons for stop by race and gender"
   ]
  },
  {
   "cell_type": "code",
   "execution_count": 9,
   "metadata": {},
   "outputs": [
    {
     "data": {
      "image/png": "[encoded data removed]",
      "text/plain": [
       "<Figure size 432x288 with 1 Axes>"
      ]
     },
     "metadata": {
      "needs_background": "light"
     },
     "output_type": "display_data"
    },
    {
     "data": {
      "image/png": "[encoded data removed]",
      "text/plain": [
       "<Figure size 432x288 with 1 Axes>"
      ]
     },
     "metadata": {
      "needs_background": "light"
     },
     "output_type": "display_data"
    }
   ],
   "source": [
    "import matplotlib.pyplot as plt\n",
    "import seaborn as sns\n",
    "\n",
    "#plot proportions by race\n",
    "sns.barplot(x='reason_for_stop',\n",
    "            y='proportion_by_race',\n",
    "            hue='race_origin_code',\n",
    "            data=reasons_proportions_race)\n",
    "plt.legend(loc='upper right')\n",
    "plt.xticks(rotation=90)\n",
    "plt.title('reasons for stop by race')\n",
    "plt.show()\n",
    "\n",
    "# plot proportions by gender\n",
    "sns.barplot(x='reason_for_stop',\n",
    "            y='proportion_by_gender',\n",
    "            hue='case_party_sex',\n",
    "            data=reasons_proportions_gender)\n",
    "plt.legend(loc='upper right')\n",
    "plt.xticks(rotation=90)\n",
    "plt.title('reasons for stop by gender')\n",
    "plt.show()"
   ]
  },
  {
   "cell_type": "markdown",
   "metadata": {},
   "source": [
    "It doesn't seem to be much difference in the reasons for stop when looking them by race and by gender. Most seem to be violations of transportation code\\vehicle laws."
   ]
  },
  {
   "cell_type": "markdown",
   "metadata": {},
   "source": [
    "### Now looking at proportions of searches being conducted by race and by gender"
   ]
  },
  {
   "cell_type": "code",
   "execution_count": 10,
   "metadata": {},
   "outputs": [
    {
     "data": {
      "image/png": "[encoded data removed]",
      "text/plain": [
       "<Figure size 432x288 with 1 Axes>"
      ]
     },
     "metadata": {
      "needs_background": "light"
     },
     "output_type": "display_data"
    },
    {
     "data": {
      "image/png": "[encoded data removed]",
      "text/plain": [
       "<Figure size 432x288 with 1 Axes>"
      ]
     },
     "metadata": {
      "needs_background": "light"
     },
     "output_type": "display_data"
    }
   ],
   "source": [
    "# proportions of searches by race\n",
    "search_proportions_race = austin.groupby(['race_origin_code','reason_for_stop'])\\\n",
    "                            ['msearch_y/n']\\\n",
    "                            .mean()\\\n",
    "                            .to_frame(name='proportion_by_race')\\\n",
    "                            .reset_index()\n",
    "\n",
    "# proportions of searches by gender\n",
    "search_proportions_gender = austin.groupby(['case_party_sex','reason_for_stop'])\\\n",
    "                            ['msearch_y/n']\\\n",
    "                            .mean()\\\n",
    "                            .to_frame(name='proportion_by_gender')\\\n",
    "                            .reset_index()\n",
    "\n",
    "# creating bar plot for searches by race\n",
    "sns.barplot(x=\"reason_for_stop\",\n",
    "            y=\"proportion_by_race\",\n",
    "            hue=\"race_origin_code\",\n",
    "            data=search_proportions_race)\n",
    "plt.xticks(rotation=90)\n",
    "plt.title('searches proportions by race')\n",
    "plt.show()\n",
    "\n",
    "# creating bar plot for searches by gender\n",
    "sns.barplot(x=\"reason_for_stop\",\n",
    "            y=\"proportion_by_gender\",\n",
    "            hue=\"case_party_sex\",\n",
    "            data=search_proportions_gender)\n",
    "plt.xticks(rotation=90)\n",
    "plt.title('searches proportions by gender')\n",
    "plt.show()"
   ]
  },
  {
   "cell_type": "markdown",
   "metadata": {},
   "source": [
    "When looking at searches conducted by race it seems that when the reasons are consent of interview, outstanding warran, pre-existing knowledge, and suspicious person both hispanic and black have higher proportions of being searched. \n",
    "\n",
    "A further and more extense analysis should be performed to find the causes for this behaviors, the data analyzed here in no way would show a reason of why this occured. It merely shows that for this period of time (2015) from the persons stopped in traffic the proportion of hispanic and blacks searched where higher.\n",
    "\n",
    "When there is pre-existing knowledge females seem to be searched in higher proportions. However, as explained in the paragraph above, further and more extense analysis should be done to finde the cause for this."
   ]
  },
  {
   "cell_type": "markdown",
   "metadata": {},
   "source": [
    "### Now looking at the data when `'frisk'` was a reason to search.\n",
    "\n",
    "first a `bool` type column needs to be created with values `True` when a search was conducted where a reason was `'frisk'`.\n",
    "\n",
    "Then calculate the proportion of searches made for frisk. For this, first only the records that had a search need to be selected, if not then the propoton will be of the total traffic stops, not of the searches."
   ]
  },
  {
   "cell_type": "code",
   "execution_count": 11,
   "metadata": {
    "scrolled": false
   },
   "outputs": [
    {
     "data": {
      "image/png": "[encoded data removed]",
      "text/plain": [
       "<Figure size 432x288 with 1 Axes>"
      ]
     },
     "metadata": {
      "needs_background": "light"
     },
     "output_type": "display_data"
    }
   ],
   "source": [
    "# create column 'frisk'\n",
    "austin['frisk'] = austin.replace({'msearch_type':{np.nan:'no search'}})\\\n",
    "                .msearch_type\\\n",
    "                .str\\\n",
    "                .contains('frisk for safety', na=False)\\\n",
    "                .astype('bool')\n",
    "\n",
    "# selecting only records with searches\n",
    "searched = austin[austin['msearch_y/n'] == True]\n",
    "\n",
    "# calculate proportion of frisk searches\n",
    "frisk_proportions = searched.groupby(['race_origin_code','case_party_sex'])\\\n",
    "                    .frisk\\\n",
    "                    .mean()\\\n",
    "                    .to_frame(name='proportion')\\\n",
    "                    .reset_index()\n",
    "\n",
    "# creating bar plot for searches by race\n",
    "sns.barplot(x=\"race_origin_code\",\n",
    "            y=\"proportion\",\n",
    "            hue=\"case_party_sex\",\n",
    "            data=frisk_proportions)\n",
    "plt.xticks(rotation=90)\n",
    "plt.title('frisk searches proportions by race and gender')\n",
    "plt.show()\n"
   ]
  },
  {
   "cell_type": "markdown",
   "metadata": {},
   "source": [
    "Looking at the data of searches where frisk is the reason doesn't show the same results as searches in general. In this case hispanics and blacks are not searched in higher proportions than other races.\n",
    "\n",
    "Frisk seem to be a search reason when stopping male drivers. However, a more extense analysis should be conducted to find the causes for this, as it can't be explained by this data set."
   ]
  },
  {
   "cell_type": "code",
   "execution_count": 12,
   "metadata": {},
   "outputs": [
    {
     "data": {
      "image/png": "[encoded data removed]",
      "text/plain": [
       "<Figure size 432x288 with 1 Axes>"
      ]
     },
     "metadata": {
      "needs_background": "light"
     },
     "output_type": "display_data"
    }
   ],
   "source": [
    "# calculate the hourly searches and create dataframe\n",
    "hourly_search_rate = austin.groupby(austin.index.hour)\\\n",
    "                    ['msearch_y/n']\\\n",
    "                    .mean()\\\n",
    "                    .to_frame('hourly_search_rate')\n",
    "\n",
    "# plot hourly_search_rate\n",
    "hourly_search_rate.plot()\n",
    "plt.title('Hourly Search Rate')\n",
    "plt.xlabel('hour of the day')\n",
    "plt.ylabel('search rate')\n",
    "plt.show()"
   ]
  },
  {
   "cell_type": "markdown",
   "metadata": {},
   "source": [
    "From around 18:00 to 4:00 the search rate increases. Meaning that someone stopped during these hours is more likely to get searched.\n",
    "\n",
    "A hypothesis could be that police officers feel more threatened at this time of the day. So looking at `'frisk for safety'` as reason to search could give an insight about this."
   ]
  },
  {
   "cell_type": "markdown",
   "metadata": {},
   "source": [
    "Looking at the search rates and frisk reason to search by hours of the day"
   ]
  },
  {
   "cell_type": "code",
   "execution_count": 13,
   "metadata": {
    "scrolled": true
   },
   "outputs": [
    {
     "data": {
      "image/png": "[encoded data removed]",
      "text/plain": [
       "<Figure size 432x288 with 2 Axes>"
      ]
     },
     "metadata": {
      "needs_background": "light"
     },
     "output_type": "display_data"
    }
   ],
   "source": [
    "frisk_rate = austin.groupby(austin.index.hour)\\\n",
    "                    .frisk\\\n",
    "                    .mean()\\\n",
    "                    .to_frame('frisk_rate')\n",
    "\n",
    "# concatenate hourle_search_rate and frisk_rate\n",
    "frisk_search_rate = pd.concat([hourly_search_rate,frisk_rate],\n",
    "                              axis=1)\n",
    "\n",
    "# plot hourly_search_rate\n",
    "frisk_search_rate.plot(subplots=True)\n",
    "plt.xlabel('hour of the day')\n",
    "plt.show()"
   ]
  },
  {
   "cell_type": "markdown",
   "metadata": {},
   "source": [
    "It looks like the hypothesis could be right, then again further analysis should be conducted to verify this."
   ]
  }
 ],
 "metadata": {
  "kernelspec": {
   "display_name": "Python 3",
   "language": "python",
   "name": "python3"
  },
  "language_info": {
   "codemirror_mode": {
    "name": "ipython",
    "version": 3
   },
   "file_extension": ".py",
   "mimetype": "text/x-python",
   "name": "python",
   "nbconvert_exporter": "python",
   "pygments_lexer": "ipython3",
   "version": "3.7.1"
  }
 },
 "nbformat": 4,
 "nbformat_minor": 2
}
